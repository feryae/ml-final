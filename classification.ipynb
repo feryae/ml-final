{
  "nbformat": 4,
  "nbformat_minor": 0,
  "metadata": {
    "colab": {
      "name": "Tubes_Classification_1301174532.ipynb",
      "provenance": [],
      "collapsed_sections": []
    },
    "kernelspec": {
      "name": "python3",
      "display_name": "Python 3"
    }
  },
  "cells": [
    {
      "cell_type": "markdown",
      "metadata": {
        "id": "kcbC7KvWdPRe",
        "colab_type": "text"
      },
      "source": [
        "CLASSIFICATION"
      ]
    },
    {
      "cell_type": "markdown",
      "metadata": {
        "id": "rrMlOkjK_EBl",
        "colab_type": "text"
      },
      "source": [
        "Importing fundamental libraries used in whole process."
      ]
    },
    {
      "cell_type": "code",
      "metadata": {
        "id": "7X8We2_KIPGX",
        "colab_type": "code",
        "colab": {}
      },
      "source": [
        "import numpy as np\n",
        "import pandas as pd"
      ],
      "execution_count": 0,
      "outputs": []
    },
    {
      "cell_type": "markdown",
      "metadata": {
        "id": "houZA4w7AMaI",
        "colab_type": "text"
      },
      "source": [
        "Load the dataset from google drive, convert them to dataframe."
      ]
    },
    {
      "cell_type": "code",
      "metadata": {
        "id": "ebYkevAiBqI7",
        "colab_type": "code",
        "colab": {}
      },
      "source": [
        "import requests\n",
        "from io import StringIO\n",
        "\n",
        "pd.set_option('mode.chained_assignment', None)\n",
        "url = requests.get('https://bit.ly/used_cars_dataset')\n",
        "csv_raw = StringIO(url.text)\n",
        "df = pd.read_csv(csv_raw)"
      ],
      "execution_count": 0,
      "outputs": []
    },
    {
      "cell_type": "markdown",
      "metadata": {
        "id": "O5FL14_VCBZZ",
        "colab_type": "text"
      },
      "source": [
        "DATA EXPLORATION"
      ]
    },
    {
      "cell_type": "markdown",
      "metadata": {
        "id": "PRa8H6sjCDqU",
        "colab_type": "text"
      },
      "source": [
        "Count number of records."
      ]
    },
    {
      "cell_type": "code",
      "metadata": {
        "id": "fBgGPAsnCHtn",
        "colab_type": "code",
        "outputId": "02b6629f-4b9b-441a-b326-53b59441c1dc",
        "colab": {
          "base_uri": "https://localhost:8080/",
          "height": 34
        }
      },
      "source": [
        "len(df.index)"
      ],
      "execution_count": 0,
      "outputs": [
        {
          "output_type": "execute_result",
          "data": {
            "text/plain": [
              "20001"
            ]
          },
          "metadata": {
            "tags": []
          },
          "execution_count": 275
        }
      ]
    },
    {
      "cell_type": "markdown",
      "metadata": {
        "id": "UoFJwTk_L52z",
        "colab_type": "text"
      },
      "source": [
        "DEFINING DATATYPES"
      ]
    },
    {
      "cell_type": "markdown",
      "metadata": {
        "id": "8S0pI4kMMcN5",
        "colab_type": "text"
      },
      "source": [
        "Drop unrelated features and bias."
      ]
    },
    {
      "cell_type": "code",
      "metadata": {
        "id": "NJiHd89_MCpx",
        "colab_type": "code",
        "colab": {}
      },
      "source": [
        "# Mostly unrelated features in the model.\n",
        "df = df.drop(columns=['Unnamed: 0','id','url','region_url','image_url',\n",
        "                      'county','description','vin','county','lat','long','condition',\n",
        "                      'title_status','paint_color','size','type','year'])"
      ],
      "execution_count": 0,
      "outputs": []
    },
    {
      "cell_type": "code",
      "metadata": {
        "id": "utI8G0y3NTTN",
        "colab_type": "code",
        "outputId": "a821b5a8-211f-4f22-eca0-706584b999f0",
        "colab": {
          "base_uri": "https://localhost:8080/",
          "height": 202
        }
      },
      "source": [
        "df.head()"
      ],
      "execution_count": 0,
      "outputs": [
        {
          "output_type": "execute_result",
          "data": {
            "text/html": [
              "<div>\n",
              "<style scoped>\n",
              "    .dataframe tbody tr th:only-of-type {\n",
              "        vertical-align: middle;\n",
              "    }\n",
              "\n",
              "    .dataframe tbody tr th {\n",
              "        vertical-align: top;\n",
              "    }\n",
              "\n",
              "    .dataframe thead th {\n",
              "        text-align: right;\n",
              "    }\n",
              "</style>\n",
              "<table border=\"1\" class=\"dataframe\">\n",
              "  <thead>\n",
              "    <tr style=\"text-align: right;\">\n",
              "      <th></th>\n",
              "      <th>region</th>\n",
              "      <th>price</th>\n",
              "      <th>manufacturer</th>\n",
              "      <th>model</th>\n",
              "      <th>cylinders</th>\n",
              "      <th>fuel</th>\n",
              "      <th>odometer</th>\n",
              "      <th>transmission</th>\n",
              "      <th>drive</th>\n",
              "      <th>state</th>\n",
              "    </tr>\n",
              "  </thead>\n",
              "  <tbody>\n",
              "    <tr>\n",
              "      <th>0</th>\n",
              "      <td>salt lake city</td>\n",
              "      <td>17899</td>\n",
              "      <td>volkswagen</td>\n",
              "      <td>golf r</td>\n",
              "      <td>4 cylinders</td>\n",
              "      <td>gas</td>\n",
              "      <td>63500.0</td>\n",
              "      <td>manual</td>\n",
              "      <td>4wd</td>\n",
              "      <td>ut</td>\n",
              "    </tr>\n",
              "    <tr>\n",
              "      <th>1</th>\n",
              "      <td>salt lake city</td>\n",
              "      <td>0</td>\n",
              "      <td>ford</td>\n",
              "      <td>f-150</td>\n",
              "      <td>NaN</td>\n",
              "      <td>gas</td>\n",
              "      <td>10.0</td>\n",
              "      <td>automatic</td>\n",
              "      <td>4wd</td>\n",
              "      <td>ut</td>\n",
              "    </tr>\n",
              "    <tr>\n",
              "      <th>2</th>\n",
              "      <td>salt lake city</td>\n",
              "      <td>46463</td>\n",
              "      <td>gmc</td>\n",
              "      <td>sierra 1500</td>\n",
              "      <td>NaN</td>\n",
              "      <td>gas</td>\n",
              "      <td>7554.0</td>\n",
              "      <td>automatic</td>\n",
              "      <td>4wd</td>\n",
              "      <td>ut</td>\n",
              "    </tr>\n",
              "    <tr>\n",
              "      <th>3</th>\n",
              "      <td>salt lake city</td>\n",
              "      <td>0</td>\n",
              "      <td>ford</td>\n",
              "      <td>f-150</td>\n",
              "      <td>NaN</td>\n",
              "      <td>gas</td>\n",
              "      <td>10.0</td>\n",
              "      <td>automatic</td>\n",
              "      <td>4wd</td>\n",
              "      <td>ut</td>\n",
              "    </tr>\n",
              "    <tr>\n",
              "      <th>4</th>\n",
              "      <td>salt lake city</td>\n",
              "      <td>49999</td>\n",
              "      <td>ford</td>\n",
              "      <td>f-450</td>\n",
              "      <td>NaN</td>\n",
              "      <td>diesel</td>\n",
              "      <td>70150.0</td>\n",
              "      <td>automatic</td>\n",
              "      <td>4wd</td>\n",
              "      <td>ut</td>\n",
              "    </tr>\n",
              "  </tbody>\n",
              "</table>\n",
              "</div>"
            ],
            "text/plain": [
              "           region  price manufacturer  ... transmission drive state\n",
              "0  salt lake city  17899   volkswagen  ...       manual   4wd    ut\n",
              "1  salt lake city      0         ford  ...    automatic   4wd    ut\n",
              "2  salt lake city  46463          gmc  ...    automatic   4wd    ut\n",
              "3  salt lake city      0         ford  ...    automatic   4wd    ut\n",
              "4  salt lake city  49999         ford  ...    automatic   4wd    ut\n",
              "\n",
              "[5 rows x 10 columns]"
            ]
          },
          "metadata": {
            "tags": []
          },
          "execution_count": 277
        }
      ]
    },
    {
      "cell_type": "markdown",
      "metadata": {
        "id": "zm8FsW1-2PyO",
        "colab_type": "text"
      },
      "source": [
        "Define the features and label"
      ]
    },
    {
      "cell_type": "code",
      "metadata": {
        "id": "96n9GffQ2O3b",
        "colab_type": "code",
        "colab": {}
      },
      "source": [
        "features = df.loc[:, df.columns != 'state']\n",
        "label = df['state']"
      ],
      "execution_count": 0,
      "outputs": []
    },
    {
      "cell_type": "markdown",
      "metadata": {
        "id": "NBynS0FQW-W2",
        "colab_type": "text"
      },
      "source": [
        "Define whether the features are categorical or numerical."
      ]
    },
    {
      "cell_type": "code",
      "metadata": {
        "id": "8lGJtgZ8W955",
        "colab_type": "code",
        "colab": {}
      },
      "source": [
        "nums = ['price','odometer']\n",
        "cates = features.columns.drop(nums) "
      ],
      "execution_count": 0,
      "outputs": []
    },
    {
      "cell_type": "markdown",
      "metadata": {
        "id": "qTg_5AefNQhN",
        "colab_type": "text"
      },
      "source": [
        "Handle missing values."
      ]
    },
    {
      "cell_type": "code",
      "metadata": {
        "id": "RZP2tMOdPmi1",
        "colab_type": "code",
        "outputId": "c91bbad5-bf9e-4d94-85d1-c2542ad39a70",
        "colab": {
          "base_uri": "https://localhost:8080/",
          "height": 69
        }
      },
      "source": [
        "# Count the numerical columns if there are missing values.\n",
        "features[nums].count()"
      ],
      "execution_count": 0,
      "outputs": [
        {
          "output_type": "execute_result",
          "data": {
            "text/plain": [
              "price       20001\n",
              "odometer    17612\n",
              "dtype: int64"
            ]
          },
          "metadata": {
            "tags": []
          },
          "execution_count": 280
        }
      ]
    },
    {
      "cell_type": "code",
      "metadata": {
        "id": "meWtTNmcUwPk",
        "colab_type": "code",
        "outputId": "33d72dae-aedf-45d2-e649-3cad82874d10",
        "colab": {
          "base_uri": "https://localhost:8080/",
          "height": 156
        }
      },
      "source": [
        "# Count the categorical columns if there are missing values.\n",
        "features[cates].count()"
      ],
      "execution_count": 0,
      "outputs": [
        {
          "output_type": "execute_result",
          "data": {
            "text/plain": [
              "region          20001\n",
              "manufacturer    19296\n",
              "model           19736\n",
              "cylinders       12916\n",
              "fuel            19928\n",
              "transmission    19811\n",
              "drive           15359\n",
              "dtype: int64"
            ]
          },
          "metadata": {
            "tags": []
          },
          "execution_count": 281
        }
      ]
    },
    {
      "cell_type": "code",
      "metadata": {
        "id": "a_bXVjxgZfYF",
        "colab_type": "code",
        "colab": {}
      },
      "source": [
        "# Handle numerical columns.\n",
        "# For price, there is an exception so we handle 0's as null values.\n",
        "features.loc[features.price == 0,'price'] = np.nan\n",
        "\n",
        "# Using mean method, handle the missing values.\n",
        "for numer in nums:\n",
        "     features[numer] = features[numer].fillna(features[numer].mean())\n",
        "features[nums].head()"
      ],
      "execution_count": 0,
      "outputs": []
    },
    {
      "cell_type": "code",
      "metadata": {
        "id": "CCHmRm7DeNBL",
        "colab_type": "code",
        "outputId": "c735f315-3a59-4d9d-8640-39c843d40fb9",
        "colab": {
          "base_uri": "https://localhost:8080/",
          "height": 202
        }
      },
      "source": [
        "# Handle categorical columns.\n",
        "# Using mode method, handle the missing values.\n",
        "for cate in cates:\n",
        "     features[cate] = features[cate].fillna(features[cate].mode().values[0])\n",
        "\n",
        "features[cates].head()"
      ],
      "execution_count": 0,
      "outputs": [
        {
          "output_type": "execute_result",
          "data": {
            "text/html": [
              "<div>\n",
              "<style scoped>\n",
              "    .dataframe tbody tr th:only-of-type {\n",
              "        vertical-align: middle;\n",
              "    }\n",
              "\n",
              "    .dataframe tbody tr th {\n",
              "        vertical-align: top;\n",
              "    }\n",
              "\n",
              "    .dataframe thead th {\n",
              "        text-align: right;\n",
              "    }\n",
              "</style>\n",
              "<table border=\"1\" class=\"dataframe\">\n",
              "  <thead>\n",
              "    <tr style=\"text-align: right;\">\n",
              "      <th></th>\n",
              "      <th>region</th>\n",
              "      <th>manufacturer</th>\n",
              "      <th>model</th>\n",
              "      <th>cylinders</th>\n",
              "      <th>fuel</th>\n",
              "      <th>transmission</th>\n",
              "      <th>drive</th>\n",
              "    </tr>\n",
              "  </thead>\n",
              "  <tbody>\n",
              "    <tr>\n",
              "      <th>0</th>\n",
              "      <td>salt lake city</td>\n",
              "      <td>volkswagen</td>\n",
              "      <td>golf r</td>\n",
              "      <td>4 cylinders</td>\n",
              "      <td>gas</td>\n",
              "      <td>manual</td>\n",
              "      <td>4wd</td>\n",
              "    </tr>\n",
              "    <tr>\n",
              "      <th>1</th>\n",
              "      <td>salt lake city</td>\n",
              "      <td>ford</td>\n",
              "      <td>f-150</td>\n",
              "      <td>6 cylinders</td>\n",
              "      <td>gas</td>\n",
              "      <td>automatic</td>\n",
              "      <td>4wd</td>\n",
              "    </tr>\n",
              "    <tr>\n",
              "      <th>2</th>\n",
              "      <td>salt lake city</td>\n",
              "      <td>gmc</td>\n",
              "      <td>sierra 1500</td>\n",
              "      <td>6 cylinders</td>\n",
              "      <td>gas</td>\n",
              "      <td>automatic</td>\n",
              "      <td>4wd</td>\n",
              "    </tr>\n",
              "    <tr>\n",
              "      <th>3</th>\n",
              "      <td>salt lake city</td>\n",
              "      <td>ford</td>\n",
              "      <td>f-150</td>\n",
              "      <td>6 cylinders</td>\n",
              "      <td>gas</td>\n",
              "      <td>automatic</td>\n",
              "      <td>4wd</td>\n",
              "    </tr>\n",
              "    <tr>\n",
              "      <th>4</th>\n",
              "      <td>salt lake city</td>\n",
              "      <td>ford</td>\n",
              "      <td>f-450</td>\n",
              "      <td>6 cylinders</td>\n",
              "      <td>diesel</td>\n",
              "      <td>automatic</td>\n",
              "      <td>4wd</td>\n",
              "    </tr>\n",
              "  </tbody>\n",
              "</table>\n",
              "</div>"
            ],
            "text/plain": [
              "           region manufacturer        model  ...    fuel transmission drive\n",
              "0  salt lake city   volkswagen       golf r  ...     gas       manual   4wd\n",
              "1  salt lake city         ford        f-150  ...     gas    automatic   4wd\n",
              "2  salt lake city          gmc  sierra 1500  ...     gas    automatic   4wd\n",
              "3  salt lake city         ford        f-150  ...     gas    automatic   4wd\n",
              "4  salt lake city         ford        f-450  ...  diesel    automatic   4wd\n",
              "\n",
              "[5 rows x 7 columns]"
            ]
          },
          "metadata": {
            "tags": []
          },
          "execution_count": 283
        }
      ]
    },
    {
      "cell_type": "markdown",
      "metadata": {
        "id": "qFdmwpXTwYZl",
        "colab_type": "text"
      },
      "source": [
        "BINNING"
      ]
    },
    {
      "cell_type": "markdown",
      "metadata": {
        "id": "25iET3vBwbYx",
        "colab_type": "text"
      },
      "source": [
        "Do binning by categorizing the numerical features."
      ]
    },
    {
      "cell_type": "code",
      "metadata": {
        "id": "slX4z8W4wZYG",
        "colab_type": "code",
        "outputId": "e9c6bbba-2844-4f4b-b993-d0e19c1619af",
        "colab": {
          "base_uri": "https://localhost:8080/",
          "height": 202
        }
      },
      "source": [
        "# # Handle numerical values by binning.\n",
        "# # Binning on price,0 means low price and 1 means high price.\n",
        "price_mean = features.price.mean()\n",
        "features.loc[features.price <= price_mean,'price'] = 0\n",
        "features.loc[features.price > price_mean,'price'] = 1\n",
        "\n",
        "# # Binning on odometer, 0 is a near distance and 1 is a far distance.\n",
        "odometer_mean = features.odometer.mean()\n",
        "features.loc[features.odometer <= odometer_mean,'odometer'] = 0\n",
        "features.loc[features.odometer > odometer_mean,'odometer'] = 1\n",
        "\n",
        "features.head()"
      ],
      "execution_count": 0,
      "outputs": [
        {
          "output_type": "execute_result",
          "data": {
            "text/html": [
              "<div>\n",
              "<style scoped>\n",
              "    .dataframe tbody tr th:only-of-type {\n",
              "        vertical-align: middle;\n",
              "    }\n",
              "\n",
              "    .dataframe tbody tr th {\n",
              "        vertical-align: top;\n",
              "    }\n",
              "\n",
              "    .dataframe thead th {\n",
              "        text-align: right;\n",
              "    }\n",
              "</style>\n",
              "<table border=\"1\" class=\"dataframe\">\n",
              "  <thead>\n",
              "    <tr style=\"text-align: right;\">\n",
              "      <th></th>\n",
              "      <th>region</th>\n",
              "      <th>price</th>\n",
              "      <th>manufacturer</th>\n",
              "      <th>model</th>\n",
              "      <th>cylinders</th>\n",
              "      <th>fuel</th>\n",
              "      <th>odometer</th>\n",
              "      <th>transmission</th>\n",
              "      <th>drive</th>\n",
              "    </tr>\n",
              "  </thead>\n",
              "  <tbody>\n",
              "    <tr>\n",
              "      <th>0</th>\n",
              "      <td>salt lake city</td>\n",
              "      <td>0.0</td>\n",
              "      <td>volkswagen</td>\n",
              "      <td>golf r</td>\n",
              "      <td>4 cylinders</td>\n",
              "      <td>gas</td>\n",
              "      <td>0.0</td>\n",
              "      <td>manual</td>\n",
              "      <td>4wd</td>\n",
              "    </tr>\n",
              "    <tr>\n",
              "      <th>1</th>\n",
              "      <td>salt lake city</td>\n",
              "      <td>0.0</td>\n",
              "      <td>ford</td>\n",
              "      <td>f-150</td>\n",
              "      <td>6 cylinders</td>\n",
              "      <td>gas</td>\n",
              "      <td>0.0</td>\n",
              "      <td>automatic</td>\n",
              "      <td>4wd</td>\n",
              "    </tr>\n",
              "    <tr>\n",
              "      <th>2</th>\n",
              "      <td>salt lake city</td>\n",
              "      <td>0.0</td>\n",
              "      <td>gmc</td>\n",
              "      <td>sierra 1500</td>\n",
              "      <td>6 cylinders</td>\n",
              "      <td>gas</td>\n",
              "      <td>0.0</td>\n",
              "      <td>automatic</td>\n",
              "      <td>4wd</td>\n",
              "    </tr>\n",
              "    <tr>\n",
              "      <th>3</th>\n",
              "      <td>salt lake city</td>\n",
              "      <td>0.0</td>\n",
              "      <td>ford</td>\n",
              "      <td>f-150</td>\n",
              "      <td>6 cylinders</td>\n",
              "      <td>gas</td>\n",
              "      <td>0.0</td>\n",
              "      <td>automatic</td>\n",
              "      <td>4wd</td>\n",
              "    </tr>\n",
              "    <tr>\n",
              "      <th>4</th>\n",
              "      <td>salt lake city</td>\n",
              "      <td>0.0</td>\n",
              "      <td>ford</td>\n",
              "      <td>f-450</td>\n",
              "      <td>6 cylinders</td>\n",
              "      <td>diesel</td>\n",
              "      <td>0.0</td>\n",
              "      <td>automatic</td>\n",
              "      <td>4wd</td>\n",
              "    </tr>\n",
              "  </tbody>\n",
              "</table>\n",
              "</div>"
            ],
            "text/plain": [
              "           region  price manufacturer  ... odometer transmission drive\n",
              "0  salt lake city    0.0   volkswagen  ...      0.0       manual   4wd\n",
              "1  salt lake city    0.0         ford  ...      0.0    automatic   4wd\n",
              "2  salt lake city    0.0          gmc  ...      0.0    automatic   4wd\n",
              "3  salt lake city    0.0         ford  ...      0.0    automatic   4wd\n",
              "4  salt lake city    0.0         ford  ...      0.0    automatic   4wd\n",
              "\n",
              "[5 rows x 9 columns]"
            ]
          },
          "metadata": {
            "tags": []
          },
          "execution_count": 284
        }
      ]
    },
    {
      "cell_type": "markdown",
      "metadata": {
        "id": "M3BXaQ8gGO2C",
        "colab_type": "text"
      },
      "source": [
        "PREPROCESSING"
      ]
    },
    {
      "cell_type": "markdown",
      "metadata": {
        "id": "TnX6dSfYGQ4w",
        "colab_type": "text"
      },
      "source": [
        "Encode the data using label encoder."
      ]
    },
    {
      "cell_type": "code",
      "metadata": {
        "id": "MV9QRLDfzg1q",
        "colab_type": "code",
        "outputId": "bbbcdb4d-3da0-457a-c56e-bfc17a29ca7a",
        "colab": {
          "base_uri": "https://localhost:8080/",
          "height": 416
        }
      },
      "source": [
        "from sklearn import preprocessing\n",
        "le = preprocessing.LabelEncoder()\n",
        "df_decode = df_decode[columns].apply(le.fit_transform)\n",
        "df = df_decode\n",
        "df"
      ],
      "execution_count": 0,
      "outputs": [
        {
          "output_type": "execute_result",
          "data": {
            "text/html": [
              "<div>\n",
              "<style scoped>\n",
              "    .dataframe tbody tr th:only-of-type {\n",
              "        vertical-align: middle;\n",
              "    }\n",
              "\n",
              "    .dataframe tbody tr th {\n",
              "        vertical-align: top;\n",
              "    }\n",
              "\n",
              "    .dataframe thead th {\n",
              "        text-align: right;\n",
              "    }\n",
              "</style>\n",
              "<table border=\"1\" class=\"dataframe\">\n",
              "  <thead>\n",
              "    <tr style=\"text-align: right;\">\n",
              "      <th></th>\n",
              "      <th>region</th>\n",
              "      <th>price</th>\n",
              "      <th>manufacturer</th>\n",
              "      <th>model</th>\n",
              "      <th>cylinders</th>\n",
              "      <th>fuel</th>\n",
              "      <th>odometer</th>\n",
              "      <th>transmission</th>\n",
              "      <th>drive</th>\n",
              "      <th>state</th>\n",
              "    </tr>\n",
              "  </thead>\n",
              "  <tbody>\n",
              "    <tr>\n",
              "      <th>0</th>\n",
              "      <td>12</td>\n",
              "      <td>0</td>\n",
              "      <td>38</td>\n",
              "      <td>2197</td>\n",
              "      <td>3</td>\n",
              "      <td>2</td>\n",
              "      <td>0</td>\n",
              "      <td>1</td>\n",
              "      <td>0</td>\n",
              "      <td>0</td>\n",
              "    </tr>\n",
              "    <tr>\n",
              "      <th>1</th>\n",
              "      <td>12</td>\n",
              "      <td>0</td>\n",
              "      <td>12</td>\n",
              "      <td>1764</td>\n",
              "      <td>5</td>\n",
              "      <td>2</td>\n",
              "      <td>0</td>\n",
              "      <td>0</td>\n",
              "      <td>0</td>\n",
              "      <td>0</td>\n",
              "    </tr>\n",
              "    <tr>\n",
              "      <th>2</th>\n",
              "      <td>12</td>\n",
              "      <td>0</td>\n",
              "      <td>13</td>\n",
              "      <td>3285</td>\n",
              "      <td>5</td>\n",
              "      <td>2</td>\n",
              "      <td>0</td>\n",
              "      <td>0</td>\n",
              "      <td>0</td>\n",
              "      <td>0</td>\n",
              "    </tr>\n",
              "    <tr>\n",
              "      <th>3</th>\n",
              "      <td>12</td>\n",
              "      <td>0</td>\n",
              "      <td>12</td>\n",
              "      <td>1764</td>\n",
              "      <td>5</td>\n",
              "      <td>2</td>\n",
              "      <td>0</td>\n",
              "      <td>0</td>\n",
              "      <td>0</td>\n",
              "      <td>0</td>\n",
              "    </tr>\n",
              "    <tr>\n",
              "      <th>4</th>\n",
              "      <td>12</td>\n",
              "      <td>0</td>\n",
              "      <td>12</td>\n",
              "      <td>1843</td>\n",
              "      <td>5</td>\n",
              "      <td>0</td>\n",
              "      <td>0</td>\n",
              "      <td>0</td>\n",
              "      <td>0</td>\n",
              "      <td>0</td>\n",
              "    </tr>\n",
              "    <tr>\n",
              "      <th>...</th>\n",
              "      <td>...</td>\n",
              "      <td>...</td>\n",
              "      <td>...</td>\n",
              "      <td>...</td>\n",
              "      <td>...</td>\n",
              "      <td>...</td>\n",
              "      <td>...</td>\n",
              "      <td>...</td>\n",
              "      <td>...</td>\n",
              "      <td>...</td>\n",
              "    </tr>\n",
              "    <tr>\n",
              "      <th>19996</th>\n",
              "      <td>5</td>\n",
              "      <td>0</td>\n",
              "      <td>32</td>\n",
              "      <td>1379</td>\n",
              "      <td>5</td>\n",
              "      <td>0</td>\n",
              "      <td>0</td>\n",
              "      <td>0</td>\n",
              "      <td>0</td>\n",
              "      <td>3</td>\n",
              "    </tr>\n",
              "    <tr>\n",
              "      <th>19997</th>\n",
              "      <td>5</td>\n",
              "      <td>0</td>\n",
              "      <td>29</td>\n",
              "      <td>3242</td>\n",
              "      <td>3</td>\n",
              "      <td>2</td>\n",
              "      <td>0</td>\n",
              "      <td>0</td>\n",
              "      <td>1</td>\n",
              "      <td>3</td>\n",
              "    </tr>\n",
              "    <tr>\n",
              "      <th>19998</th>\n",
              "      <td>5</td>\n",
              "      <td>0</td>\n",
              "      <td>19</td>\n",
              "      <td>2224</td>\n",
              "      <td>5</td>\n",
              "      <td>2</td>\n",
              "      <td>0</td>\n",
              "      <td>0</td>\n",
              "      <td>0</td>\n",
              "      <td>3</td>\n",
              "    </tr>\n",
              "    <tr>\n",
              "      <th>19999</th>\n",
              "      <td>5</td>\n",
              "      <td>0</td>\n",
              "      <td>37</td>\n",
              "      <td>1276</td>\n",
              "      <td>3</td>\n",
              "      <td>2</td>\n",
              "      <td>0</td>\n",
              "      <td>0</td>\n",
              "      <td>1</td>\n",
              "      <td>3</td>\n",
              "    </tr>\n",
              "    <tr>\n",
              "      <th>20000</th>\n",
              "      <td>5</td>\n",
              "      <td>0</td>\n",
              "      <td>37</td>\n",
              "      <td>372</td>\n",
              "      <td>5</td>\n",
              "      <td>2</td>\n",
              "      <td>0</td>\n",
              "      <td>0</td>\n",
              "      <td>0</td>\n",
              "      <td>3</td>\n",
              "    </tr>\n",
              "  </tbody>\n",
              "</table>\n",
              "<p>20001 rows × 10 columns</p>\n",
              "</div>"
            ],
            "text/plain": [
              "       region  price  manufacturer  model  ...  odometer  transmission  drive  state\n",
              "0          12      0            38   2197  ...         0             1      0      0\n",
              "1          12      0            12   1764  ...         0             0      0      0\n",
              "2          12      0            13   3285  ...         0             0      0      0\n",
              "3          12      0            12   1764  ...         0             0      0      0\n",
              "4          12      0            12   1843  ...         0             0      0      0\n",
              "...       ...    ...           ...    ...  ...       ...           ...    ...    ...\n",
              "19996       5      0            32   1379  ...         0             0      0      3\n",
              "19997       5      0            29   3242  ...         0             0      1      3\n",
              "19998       5      0            19   2224  ...         0             0      0      3\n",
              "19999       5      0            37   1276  ...         0             0      1      3\n",
              "20000       5      0            37    372  ...         0             0      0      3\n",
              "\n",
              "[20001 rows x 10 columns]"
            ]
          },
          "metadata": {
            "tags": []
          },
          "execution_count": 285
        }
      ]
    },
    {
      "cell_type": "markdown",
      "metadata": {
        "id": "QBpoP5pdGYJW",
        "colab_type": "text"
      },
      "source": [
        "DATA CORRELATION"
      ]
    },
    {
      "cell_type": "markdown",
      "metadata": {
        "id": "5mCreYyMGZ_l",
        "colab_type": "text"
      },
      "source": [
        "View the data correlation using heatmap."
      ]
    },
    {
      "cell_type": "code",
      "metadata": {
        "id": "uCcDsbSAGdcn",
        "colab_type": "code",
        "outputId": "36ce2715-f374-498a-b4c4-c6e899b12740",
        "colab": {
          "base_uri": "https://localhost:8080/",
          "height": 1000
        }
      },
      "source": [
        "import seaborn as sns\n",
        "\n",
        "fig, ax = plt.subplots(figsize=(20,20))\n",
        "sns.heatmap(df.corr(), annot = True, vmin=-1, vmax=1, center= 0)"
      ],
      "execution_count": 0,
      "outputs": [
        {
          "output_type": "execute_result",
          "data": {
            "text/plain": [
              "<matplotlib.axes._subplots.AxesSubplot at 0x7f17803e5fd0>"
            ]
          },
          "metadata": {
            "tags": []
          },
          "execution_count": 286
        },
        {
          "output_type": "display_data",
          "data": {
            "image/png": "[encoded data removed]",
            "text/plain": [
              "<Figure size 1440x1440 with 2 Axes>"
            ]
          },
          "metadata": {
            "tags": [],
            "needs_background": "light"
          }
        }
      ]
    },
    {
      "cell_type": "markdown",
      "metadata": {
        "id": "SBbEtoWkHlvP",
        "colab_type": "text"
      },
      "source": [
        "SPLIT THE DATASET"
      ]
    },
    {
      "cell_type": "markdown",
      "metadata": {
        "id": "f9R-Hy5jHrkE",
        "colab_type": "text"
      },
      "source": [
        "Split the dataset to train and test data."
      ]
    },
    {
      "cell_type": "code",
      "metadata": {
        "id": "wZz7hTQx4bgh",
        "colab_type": "code",
        "colab": {}
      },
      "source": [
        "from sklearn.model_selection import train_test_split\n",
        "\n",
        "features = df.loc[:, df.columns != 'state']\n",
        "label = df['state']\n",
        "\n",
        "x_train, x_test, y_train, y_test = train_test_split(features,label,\n",
        "                                                    train_size= 0.7,\n",
        "                                                    test_size = 0.3, \n",
        "                                                    random_state = 2)\n"
      ],
      "execution_count": 0,
      "outputs": []
    },
    {
      "cell_type": "markdown",
      "metadata": {
        "id": "aHnxYVg6AmC0",
        "colab_type": "text"
      },
      "source": [
        "MODEL 1 : USING K-NEIGHBORS CLASSIFIER"
      ]
    },
    {
      "cell_type": "code",
      "metadata": {
        "id": "t7K6rKrO4hC6",
        "colab_type": "code",
        "outputId": "662c5b6f-d69d-4f9c-eae6-af23ca68bf1b",
        "colab": {
          "base_uri": "https://localhost:8080/",
          "height": 34
        }
      },
      "source": [
        "from sklearn.neighbors import KNeighborsClassifier\n",
        "\n",
        "classifier = KNeighborsClassifier(n_neighbors=2)\n",
        "classifier.fit(x_train, y_train)\n",
        "target_pred = classifier.predict(x_test)\n",
        "target_pred"
      ],
      "execution_count": 0,
      "outputs": [
        {
          "output_type": "execute_result",
          "data": {
            "text/plain": [
              "array([2, 1, 1, ..., 3, 2, 1])"
            ]
          },
          "metadata": {
            "tags": []
          },
          "execution_count": 288
        }
      ]
    },
    {
      "cell_type": "code",
      "metadata": {
        "id": "xI9LV2rewVq7",
        "colab_type": "code",
        "colab": {}
      },
      "source": [
        "from sklearn.metrics import accuracy_score"
      ],
      "execution_count": 0,
      "outputs": []
    },
    {
      "cell_type": "code",
      "metadata": {
        "id": "_9wVoqWp4ij7",
        "colab_type": "code",
        "outputId": "c8cbec1a-ffa6-4189-d03d-5ae386beafe4",
        "colab": {
          "base_uri": "https://localhost:8080/",
          "height": 34
        }
      },
      "source": [
        "accuracy= accuracy_score(y_test, target_pred)\n",
        "accuracy"
      ],
      "execution_count": 0,
      "outputs": [
        {
          "output_type": "execute_result",
          "data": {
            "text/plain": [
              "0.8585235794034327"
            ]
          },
          "metadata": {
            "tags": []
          },
          "execution_count": 290
        }
      ]
    },
    {
      "cell_type": "markdown",
      "metadata": {
        "id": "7LPeUAod4m5o",
        "colab_type": "text"
      },
      "source": [
        "MODEL 2 : USING NAIVE BAYES"
      ]
    },
    {
      "cell_type": "code",
      "metadata": {
        "id": "td4jT8oW4l8x",
        "colab_type": "code",
        "outputId": "5bfb70de-85fa-461e-e71f-3b25d7a49f1e",
        "colab": {
          "base_uri": "https://localhost:8080/",
          "height": 34
        }
      },
      "source": [
        "from sklearn.naive_bayes import GaussianNB\n",
        "model = GaussianNB()\n",
        "model.fit(x_train,y_train)\n",
        "y_pred = model.predict(x_test)\n",
        "accuracyGauss = accuracy_score(y_test,y_pred)\n",
        "accuracyGauss"
      ],
      "execution_count": 0,
      "outputs": [
        {
          "output_type": "execute_result",
          "data": {
            "text/plain": [
              "0.9091818030328278"
            ]
          },
          "metadata": {
            "tags": []
          },
          "execution_count": 291
        }
      ]
    }
  ]
}